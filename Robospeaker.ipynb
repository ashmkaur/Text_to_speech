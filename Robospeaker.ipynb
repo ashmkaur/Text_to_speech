{
 "cells": [
  {
   "cell_type": "code",
   "execution_count": 9,
   "metadata": {},
   "outputs": [
    {
     "name": "stdout",
     "output_type": "stream",
     "text": [
      "Welcome to Robospeaker\n"
     ]
    }
   ],
   "source": [
    "import os\n",
    "\n",
    "if __name__ == '__main__':\n",
    "    print(\"Welcome to Robospeaker\")\n",
    "    x= input(\"Enter the text\")\n",
    "    command= f\"pronounce {x}\"\n",
    "    os.system(command)\n"
   ]
  },
  {
   "cell_type": "code",
   "execution_count": 10,
   "metadata": {},
   "outputs": [
    {
     "name": "stdout",
     "output_type": "stream",
     "text": [
      "Collecting pyttsx3Note: you may need to restart the kernel to use updated packages.\n",
      "\n",
      "  Downloading pyttsx3-2.90-py3-none-any.whl (39 kB)\n",
      "Collecting comtypes (from pyttsx3)\n",
      "  Obtaining dependency information for comtypes from https://files.pythonhosted.org/packages/7e/f1/759a8c4d58695b9fcc2e22b0c986447759534084ddd6c4ad53df07c6fdfa/comtypes-1.3.0-py3-none-any.whl.metadata\n",
      "  Downloading comtypes-1.3.0-py3-none-any.whl.metadata (6.4 kB)\n",
      "Collecting pypiwin32 (from pyttsx3)\n",
      "  Downloading pypiwin32-223-py3-none-any.whl (1.7 kB)\n",
      "Requirement already satisfied: pywin32 in c:\\users\\hp\\anaconda3\\lib\\site-packages (from pyttsx3) (305.1)\n",
      "Downloading comtypes-1.3.0-py3-none-any.whl (194 kB)\n",
      "   ---------------------------------------- 0.0/194.1 kB ? eta -:--:--\n",
      "   ------ --------------------------------- 30.7/194.1 kB 1.3 MB/s eta 0:00:01\n",
      "   ------------------------- -------------- 122.9/194.1 kB 1.4 MB/s eta 0:00:01\n",
      "   ------------------------------------- -- 184.3/194.1 kB 1.6 MB/s eta 0:00:01\n",
      "   ---------------------------------------- 194.1/194.1 kB 1.5 MB/s eta 0:00:00\n",
      "Installing collected packages: comtypes, pypiwin32, pyttsx3\n",
      "Successfully installed comtypes-1.3.0 pypiwin32-223 pyttsx3-2.90\n"
     ]
    }
   ],
   "source": [
    "pip install pyttsx3\n"
   ]
  },
  {
   "cell_type": "code",
   "execution_count": 18,
   "metadata": {},
   "outputs": [],
   "source": [
    "import pyttsx3\n",
    "engine = pyttsx3.init()\n",
    "while(True):\n",
    "    command= input(\"Enter something I need to speak\")\n",
    "    if command== \"q\":\n",
    "        engine.say(\"Bye bye friend\")\n",
    "        engine.runAndWait()\n",
    "        break\n",
    "    engine.say(command)\n",
    "    engine.runAndWait()"
   ]
  }
 ],
 "metadata": {
  "kernelspec": {
   "display_name": "base",
   "language": "python",
   "name": "python3"
  },
  "language_info": {
   "codemirror_mode": {
    "name": "ipython",
    "version": 3
   },
   "file_extension": ".py",
   "mimetype": "text/x-python",
   "name": "python",
   "nbconvert_exporter": "python",
   "pygments_lexer": "ipython3",
   "version": "3.11.5"
  }
 },
 "nbformat": 4,
 "nbformat_minor": 2
}
